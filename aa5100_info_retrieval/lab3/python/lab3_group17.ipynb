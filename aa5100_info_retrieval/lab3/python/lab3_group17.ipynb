{
 "cells": [
  {
   "cell_type": "code",
   "execution_count": 1,
   "metadata": {},
   "outputs": [],
   "source": [
    "import pyodbc as py\n",
    "import pandas as pd"
   ]
  },
  {
   "cell_type": "code",
   "execution_count": 2,
   "metadata": {},
   "outputs": [
    {
     "name": "stdout",
     "output_type": "stream",
     "text": [
      "['SQL Server', 'Oracle in OraDB23Home1', 'ODBC Driver 17 for SQL Server', 'Microsoft Access Driver (*.mdb, *.accdb)', 'Microsoft Excel Driver (*.xls, *.xlsx, *.xlsm, *.xlsb)', 'Microsoft Access Text Driver (*.txt, *.csv)', 'Microsoft Access dBASE Driver (*.dbf, *.ndx, *.mdx)']\n"
     ]
    }
   ],
   "source": [
    "print(py.drivers())"
   ]
  },
  {
   "cell_type": "code",
   "execution_count": 3,
   "metadata": {},
   "outputs": [],
   "source": [
    "# DATABASE MUST EXIST BEFORE RUNNING - RUN SQL FILE IN SQL SERVER FIRST\n",
    "def connect_mssql(): # for VM, driver should be {SQL Server}, replace server with the one provided by SLU\n",
    "    conn_str = r'''\n",
    "        Driver={ODBC Driver 17 for SQL Server};\n",
    "        Server=YogaPro9i\\LOCAL_MSSQL;\n",
    "        database=lab3_group17;\n",
    "        trusted_connection=yes;\n",
    "        '''\n",
    "    conn = py.connect(conn_str)\n",
    "    print(f'Connected to SQL Server')\n",
    "    cur = conn.cursor()\n",
    "    return conn, cur\n",
    "\n",
    "def disconnect_mssql(conn):\n",
    "    conn.close()\n",
    "    print('Disconnected')"
   ]
  },
  {
   "cell_type": "markdown",
   "metadata": {},
   "source": [
    "### the following function will allow us to easily insert records into the different tables"
   ]
  },
  {
   "cell_type": "code",
   "execution_count": 4,
   "metadata": {},
   "outputs": [],
   "source": [
    "# call within dml functions that have already established conn and cur to track total records\n",
    "def select_count(cur, table, count_type, cmd_type):\n",
    "    query = f'select count(*) from {table};'\n",
    "    count = cur.execute(query).fetchone()[0]\n",
    "    print(f'Records in table {count_type} {cmd_type}: {count}')\n",
    "    return count\n",
    "\n",
    "# example call: (table='general.statedetail', fields=('StateID, State'), values=states')\n",
    "def insert_into_database(table, fields, values):\n",
    "    # list of '?' for 'values' placeholders for executemany func, use with params to create query \n",
    "    values_ph = ('?, ' * len(fields.split(',')))[:-2] # remove the last comma\n",
    "    insert_query = f'insert into {table} ({fields}) values ({values_ph});'\n",
    "    \n",
    "    try:\n",
    "        # connect, establish cursor, get and print pre-count\n",
    "        conn, cur = connect_mssql()\n",
    "        pre_count = select_count(cur, table, 'before', 'insert')\n",
    "        \n",
    "        # insert records\n",
    "        cur.executemany(insert_query, values)\n",
    "        \n",
    "        # get and print post-count, calculate number of records inserted\n",
    "        post_count = select_count(cur, table, 'after', 'insert')\n",
    "        new_recs = post_count - pre_count\n",
    "        \n",
    "        # if number new recs equals len of values parameter, commit\n",
    "        if new_recs == len(values):\n",
    "            conn.commit()\n",
    "            print(f'{new_recs} new records inserted in {table}')\n",
    "        else:\n",
    "            print('Not committed, all records were not inserted')\n",
    "            \n",
    "        disconnect_mssql(conn)\n",
    "        \n",
    "    except Exception as e:\n",
    "        if conn:\n",
    "            disconnect_mssql(conn)      \n",
    "        print(e)\n",
    "        \n",
    "def delete_from_table(table):\n",
    "    query = f'delete from {table};'\n",
    "    conn, cur = connect_mssql()\n",
    "    select_count(cur, table, 'before', 'delete')\n",
    "    cur.execute(query)\n",
    "    cur.commit()\n",
    "    select_count(cur, table, 'after', 'delete')\n",
    "    disconnect_mssql(conn)"
   ]
  },
  {
   "cell_type": "code",
   "execution_count": 15,
   "metadata": {},
   "outputs": [
    {
     "name": "stdout",
     "output_type": "stream",
     "text": [
      "Connected to SQL Server\n",
      "Records in table before delete: 1\n",
      "Records in table after delete: 0\n",
      "Disconnected\n"
     ]
    }
   ],
   "source": [
    "# delete statement for testing\n",
    "#delete_from_table('general.statedetail')\n",
    "delete_from_table('hr.employee')"
   ]
  },
  {
   "cell_type": "code",
   "execution_count": 6,
   "metadata": {},
   "outputs": [],
   "source": [
    "# insert states into statedetail table\n",
    "states = [\n",
    "    ('AL', 'Alabama'), ('AK', 'Alaska'), ('AZ', 'Arizona'), ('AR', 'Arkansas'),\n",
    "    ('CA', 'California'), ('CO', 'Colorado'), ('CT', 'Connecticut'),\n",
    "    ('DE', 'Delaware'), ('FL', 'Florida'), ('GA', 'Georgia'), ('HI', 'Hawaii'),\n",
    "    ('ID', 'Idaho'), ('IL', 'Illinois'), ('IN', 'Indiana'), ('IA', 'Iowa'),\n",
    "    ('KS', 'Kansas'), ('KY', 'Kentucky'), ('LA', 'Louisiana'), ('ME', 'Maine'),\n",
    "    ('MD', 'Maryland'), ('MA', 'Massachusetts'), ('MI', 'Michigan'),\n",
    "    ('MN', 'Minnesota'), ('MS', 'Mississippi'), ('MO', 'Missouri'),\n",
    "    ('MT', 'Montana'), ('NE', 'Nebraska'), ('NV', 'Nevada'),\n",
    "    ('NH', 'New Hampshire'), ('NJ', 'New Jersey'), ('NM', 'New Mexico'),\n",
    "    ('NY', 'New York'), ('NC', 'North Carolina'), ('ND', 'North Dakota'),\n",
    "    ('OH', 'Ohio'), ('OK', 'Oklahoma'), ('OR', 'Oregon'),\n",
    "    ('PA', 'Pennsylvania'), ('RI', 'Rhode Island'), ('SC', 'South Carolina'),\n",
    "    ('SD', 'South Dakota'), ('TN', 'Tennessee'), ('TX', 'Texas'), ('UT', 'Utah'),\n",
    "    ('VT', 'Vermont'), ('VA', 'Virginia'), ('WA', 'Washington'),\n",
    "    ('WV', 'West Virginia'), ('WI', 'Wisconsin'), ('WY', 'Wyoming')\n",
    "]\n",
    "\n",
    "#insert_into_database(table='general.statedetail', fields=('StateID, State'), values=states)"
   ]
  },
  {
   "cell_type": "code",
   "execution_count": null,
   "metadata": {},
   "outputs": [
    {
     "name": "stdout",
     "output_type": "stream",
     "text": [
      "Connected to SQL Server\n",
      "Records in table before insert: 0\n",
      "Records in table after insert: 8\n",
      "8 new records inserted in hr.department\n",
      "Disconnected\n"
     ]
    }
   ],
   "source": [
    "depts = [\n",
    "    ('GROC', 'Grocery'), ('HOME', 'Home Goods'), ('TECH', 'Electronics'), \n",
    "    ('PETS', 'Pet Supplies'), ('APPL', 'Applicances'), ('SPRT', 'Sporting Goods'),\n",
    "    ('ETMT', 'Entertainment/Toys'), ('GNRL', 'General')\n",
    "]\n",
    "\n",
    "#insert_into_database(table='hr.department', fields='DeptID, Department', values=depts)"
   ]
  },
  {
   "cell_type": "code",
   "execution_count": null,
   "metadata": {},
   "outputs": [],
   "source": []
  },
  {
   "cell_type": "code",
   "execution_count": 26,
   "metadata": {},
   "outputs": [
    {
     "name": "stdout",
     "output_type": "stream",
     "text": [
      "Connected to SQL Server\n",
      "Disconnected\n"
     ]
    },
    {
     "data": {
      "text/plain": [
       "[101, 102, 103, 104, 105, 106, 107, 108, 109, 110, 111, 112, 113, 114, 115]"
      ]
     },
     "execution_count": 26,
     "metadata": {},
     "output_type": "execute_result"
    }
   ],
   "source": [
    "# TODO - create function for assigning a new numeric id, which can be used with inserting\n",
    "\n",
    "def get_last_id(table, id_type):\n",
    "    last_id = None\n",
    "    query = f'select max(a.{id_type}) from {table} a'\n",
    "    conn, cur = connect_mssql()\n",
    "    last_id = cur.execute(query).fetchone()[0]\n",
    "    disconnect_mssql(conn)\n",
    "    return last_id\n",
    "    \n",
    "def assign_id(table, id_type, num_digs, num_ids):\n",
    "    last_id = get_last_id(table, id_type)\n",
    "\n",
    "    # if table doesn't already have at least one id, create one based on the num_digs\n",
    "    if not last_id:\n",
    "        last_id = int('1' + ('0' * (num_digs - 1)))\n",
    "        \n",
    "    new_ids = []\n",
    "    for i in range(num_ids):\n",
    "        new_id = last_id + 1\n",
    "        new_ids.append(new_id)\n",
    "        last_id += 1\n",
    "    \n",
    "    return new_ids\n",
    "\n",
    "assign_id('hr.employee', 'EmployeeID', 3, 15)\n",
    "\n",
    "\n",
    "# TODO - now figure out how to insert sample data along with the ids    "
   ]
  }
 ],
 "metadata": {
  "kernelspec": {
   "display_name": ".venv",
   "language": "python",
   "name": "python3"
  },
  "language_info": {
   "codemirror_mode": {
    "name": "ipython",
    "version": 3
   },
   "file_extension": ".py",
   "mimetype": "text/x-python",
   "name": "python",
   "nbconvert_exporter": "python",
   "pygments_lexer": "ipython3",
   "version": "3.13.1"
  }
 },
 "nbformat": 4,
 "nbformat_minor": 2
}
